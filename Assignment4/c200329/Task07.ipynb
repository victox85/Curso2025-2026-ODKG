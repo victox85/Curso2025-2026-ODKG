{
  "cells": [
    {
      "cell_type": "markdown",
      "metadata": {
        "id": "nOOPLCHF7hLB"
      },
      "source": [
        "**Task 07: Querying RDF(s)**"
      ]
    },
    {
      "cell_type": "code",
      "execution_count": 1,
      "metadata": {
        "id": "Yl9npCt8n6m-",
        "colab": {
          "base_uri": "https://localhost:8080/"
        },
        "outputId": "07f2b888-b016-4c82-ea45-c2782f4d1374"
      },
      "outputs": [
        {
          "output_type": "stream",
          "name": "stdout",
          "text": [
            "Collecting rdflib\n",
            "  Downloading rdflib-7.2.1-py3-none-any.whl.metadata (11 kB)\n",
            "Requirement already satisfied: pyparsing<4,>=2.1.0 in /usr/local/lib/python3.12/dist-packages (from rdflib) (3.2.5)\n",
            "Downloading rdflib-7.2.1-py3-none-any.whl (565 kB)\n",
            "\u001b[?25l   \u001b[90m━━━━━━━━━━━━━━━━━━━━━━━━━━━━━━━━━━━━━━━━\u001b[0m \u001b[32m0.0/565.4 kB\u001b[0m \u001b[31m?\u001b[0m eta \u001b[36m-:--:--\u001b[0m\r\u001b[2K   \u001b[90m━━━━━━━━━━━━━━━━━━━━━━━━━━━━━━━━━━━━━━━━\u001b[0m \u001b[32m565.4/565.4 kB\u001b[0m \u001b[31m31.7 MB/s\u001b[0m eta \u001b[36m0:00:00\u001b[0m\n",
            "\u001b[?25hInstalling collected packages: rdflib\n",
            "Successfully installed rdflib-7.2.1\n"
          ]
        }
      ],
      "source": [
        "!pip install rdflib\n",
        "import urllib.request\n",
        "url = 'https://raw.githubusercontent.com/FacultadInformatica-LinkedData/Curso2025-2026/refs/heads/master/Assignment4/course_materials/python/validation.py'\n",
        "urllib.request.urlretrieve(url, 'validation.py')\n",
        "github_storage = \"https://raw.githubusercontent.com/FacultadInformatica-LinkedData/Curso2025-2026/master/Assignment4/course_materials\""
      ]
    },
    {
      "cell_type": "code",
      "source": [
        "from validation import Report"
      ],
      "metadata": {
        "id": "FmnGjffDT92V"
      },
      "execution_count": 10,
      "outputs": []
    },
    {
      "cell_type": "markdown",
      "metadata": {
        "id": "XY7aPc86Bqoo"
      },
      "source": [
        "First let's read the RDF file"
      ]
    },
    {
      "cell_type": "code",
      "execution_count": 11,
      "metadata": {
        "id": "9ERh415on7kF"
      },
      "outputs": [],
      "source": [
        "from rdflib import Graph, Namespace, Literal\n",
        "from rdflib.namespace import RDF, RDFS\n",
        "# Do not change the name of the variables\n",
        "g = Graph()\n",
        "g.namespace_manager.bind('ns', Namespace(\"http://somewhere#\"), override=False)\n",
        "g.parse(github_storage+\"/rdf/data06.ttl\", format=\"TTL\")\n",
        "report = Report()"
      ]
    },
    {
      "cell_type": "markdown",
      "metadata": {
        "id": "qp1oe2Eddsvo"
      },
      "source": [
        "**TASK 7.1a: For all classes, list each classURI. If the class belogs to another class, then list its superclass.**\n",
        "**Do the exercise in RDFLib returning a list of Tuples: (class, superclass) called \"result\". If a class does not have a super class, then return None as the superclass**"
      ]
    },
    {
      "cell_type": "code",
      "execution_count": 23,
      "metadata": {
        "id": "tRcSWuMHOXBl",
        "colab": {
          "base_uri": "https://localhost:8080/"
        },
        "outputId": "4d0ee770-4ef9-4a1f-9f62-d6c42e52d88c"
      },
      "outputs": [
        {
          "output_type": "stream",
          "name": "stdout",
          "text": [
            "(rdflib.term.URIRef('http://oeg.fi.upm.es/def/people#Person'), None)\n",
            "(rdflib.term.URIRef('http://oeg.fi.upm.es/def/people#Animal'), None)\n",
            "(rdflib.term.URIRef('http://oeg.fi.upm.es/def/people#Professor'), rdflib.term.URIRef('http://oeg.fi.upm.es/def/people#Person'))\n",
            "(rdflib.term.URIRef('http://oeg.fi.upm.es/def/people#Student'), rdflib.term.URIRef('http://oeg.fi.upm.es/def/people#Person'))\n",
            "(rdflib.term.URIRef('http://oeg.fi.upm.es/def/people#FullProfessor'), rdflib.term.URIRef('http://oeg.fi.upm.es/def/people#Professor'))\n",
            "(rdflib.term.URIRef('http://oeg.fi.upm.es/def/people#AssociateProfessor'), rdflib.term.URIRef('http://oeg.fi.upm.es/def/people#Professor'))\n",
            "(rdflib.term.URIRef('http://oeg.fi.upm.es/def/people#InterimAssociateProfessor'), rdflib.term.URIRef('http://oeg.fi.upm.es/def/people#AssociateProfessor'))\n"
          ]
        }
      ],
      "source": [
        "# TO DO\n",
        "\n",
        "result = [] #list of tuples\n",
        "for i in g.subjects(RDF.type, RDFS.Class):\n",
        "    superclass = g.value(subject=i, predicate=RDFS.subClassOf)\n",
        "    result.append((i, superclass if superclass else None))\n",
        "# Visualize the results\n",
        "for r in result:\n",
        "  print(r)"
      ]
    },
    {
      "cell_type": "code",
      "source": [
        "## Validation: Do not remove\n",
        "report.validate_07_1a(result)"
      ],
      "metadata": {
        "id": "uvEpQQrTlMPH",
        "colab": {
          "base_uri": "https://localhost:8080/"
        },
        "outputId": "410efaf9-c276-4389-8daa-8226e06814b0"
      },
      "execution_count": 21,
      "outputs": [
        {
          "output_type": "stream",
          "name": "stdout",
          "text": [
            "TASK 7.1a OK\n"
          ]
        }
      ]
    },
    {
      "cell_type": "markdown",
      "source": [
        "**TASK 7.1b: Repeat the same exercise in SPARQL, returning the variables ?c (class) and ?sc (superclass)**"
      ],
      "metadata": {
        "id": "kbY-jqw6klr9"
      }
    },
    {
      "cell_type": "code",
      "source": [
        "\n",
        "query = \"\"\"\n",
        "    SELECT ?c ?sc\n",
        "    WHERE {\n",
        "        ?c rdf:type rdfs:Class .\n",
        "        OPTIONAL {\n",
        "          ?c rdfs:subClassOf ?sc .\n",
        "          }\n",
        "    }\n",
        "    \"\"\"\n",
        "\n",
        "for r in g.query(query):\n",
        "  print(r.c, r.sc)\n"
      ],
      "metadata": {
        "id": "NGAG7l9UklMC",
        "colab": {
          "base_uri": "https://localhost:8080/"
        },
        "outputId": "ee9c349e-8dfb-4347-df37-9047b52ade39"
      },
      "execution_count": 27,
      "outputs": [
        {
          "output_type": "stream",
          "name": "stdout",
          "text": [
            "http://oeg.fi.upm.es/def/people#Person None\n",
            "http://oeg.fi.upm.es/def/people#Animal None\n",
            "http://oeg.fi.upm.es/def/people#Professor http://oeg.fi.upm.es/def/people#Person\n",
            "http://oeg.fi.upm.es/def/people#Student http://oeg.fi.upm.es/def/people#Person\n",
            "http://oeg.fi.upm.es/def/people#FullProfessor http://oeg.fi.upm.es/def/people#Professor\n",
            "http://oeg.fi.upm.es/def/people#AssociateProfessor http://oeg.fi.upm.es/def/people#Professor\n",
            "http://oeg.fi.upm.es/def/people#InterimAssociateProfessor http://oeg.fi.upm.es/def/people#AssociateProfessor\n"
          ]
        }
      ]
    },
    {
      "cell_type": "code",
      "source": [
        "## Validation: Do not remove\n",
        "report.validate_07_1b(query,g)"
      ],
      "metadata": {
        "id": "9zf4vgVHlKR3",
        "colab": {
          "base_uri": "https://localhost:8080/"
        },
        "outputId": "ec2e8fe7-d381-473c-fc04-0de29bb3184b"
      },
      "execution_count": 28,
      "outputs": [
        {
          "output_type": "stream",
          "name": "stdout",
          "text": [
            "TASK 7.1b OK\n"
          ]
        }
      ]
    },
    {
      "cell_type": "markdown",
      "metadata": {
        "id": "gM3DASkTQQ5Y"
      },
      "source": [
        "**TASK 7.2a: List all individuals of \"Person\" with RDFLib (remember the subClasses). Return the individual URIs in a list called \"individuals\"**\n"
      ]
    },
    {
      "cell_type": "code",
      "execution_count": 29,
      "metadata": {
        "id": "LiKSPHRzS-XJ",
        "colab": {
          "base_uri": "https://localhost:8080/"
        },
        "outputId": "e23298d8-b72a-4b01-bd89-9ee7caf60501"
      },
      "outputs": [
        {
          "output_type": "stream",
          "name": "stdout",
          "text": [
            "http://oeg.fi.upm.es/def/people#Raul\n",
            "http://oeg.fi.upm.es/def/people#Asun\n",
            "http://oeg.fi.upm.es/def/people#Oscar\n"
          ]
        }
      ],
      "source": [
        "ns = Namespace(\"http://oeg.fi.upm.es/def/people#\")\n",
        "\n",
        "# variable to return\n",
        "individuals = []\n",
        "\n",
        "\n",
        "def get_subclasses(cls):\n",
        "    subclasses = set()\n",
        "    for subclass in g.subjects(RDFS.subClassOf, cls):\n",
        "        subclasses.add(subclass)\n",
        "        subclasses |= get_subclasses(subclass)  # recursive search\n",
        "    return subclasses\n",
        "\n",
        "# Get all subclasses of Person\n",
        "subclasses = get_subclasses(ns.Person)\n",
        "\n",
        "# Include Person itself\n",
        "classes_to_check = subclasses | {ns.Person}\n",
        "\n",
        "# Find all individuals of Person and its subclasses\n",
        "for c in classes_to_check:\n",
        "    for ind in g.subjects(RDF.type, c):\n",
        "        individuals.append(ind)\n",
        "\n",
        "# Remove duplicates (just in case)\n",
        "individuals = list(set(individuals))\n",
        "# visualize results\n",
        "for i in individuals:\n",
        "  print(i)"
      ]
    },
    {
      "cell_type": "code",
      "source": [
        "# validation. Do not remove\n",
        "report.validate_07_02a(individuals)"
      ],
      "metadata": {
        "id": "ONrAls5uiX1G",
        "colab": {
          "base_uri": "https://localhost:8080/"
        },
        "outputId": "426c22ab-17fe-4262-c57e-c8c8052b4fa7"
      },
      "execution_count": 30,
      "outputs": [
        {
          "output_type": "stream",
          "name": "stdout",
          "text": [
            "TASK 7.2a OK\n"
          ]
        }
      ]
    },
    {
      "cell_type": "markdown",
      "source": [
        "**TASK 7.2b: Repeat the same exercise in SPARQL, returning the individual URIs in a variable ?ind**"
      ],
      "metadata": {
        "id": "up-952A-za7A"
      }
    },
    {
      "cell_type": "code",
      "source": [
        "query =  \"\"\"\n",
        "PREFIX ns: <http://oeg.fi.upm.es/def/people#>\n",
        "\n",
        "\n",
        "SELECT DISTINCT ?ind\n",
        "WHERE {\n",
        "  ?subClass rdfs:subClassOf* ns:Person .\n",
        "  ?ind a ?subClass .\n",
        "}\n",
        "\"\"\"\n",
        "\n",
        "for r in g.query(query):\n",
        "  print(r.ind)\n",
        "# Visualize the results"
      ],
      "metadata": {
        "id": "ipYiEVbTzbR0",
        "colab": {
          "base_uri": "https://localhost:8080/"
        },
        "outputId": "ce87a457-5215-4c7f-c16f-1e630d01cc2a"
      },
      "execution_count": 34,
      "outputs": [
        {
          "output_type": "stream",
          "name": "stdout",
          "text": [
            "http://oeg.fi.upm.es/def/people#Asun\n",
            "http://oeg.fi.upm.es/def/people#Oscar\n",
            "http://oeg.fi.upm.es/def/people#Raul\n"
          ]
        }
      ]
    },
    {
      "cell_type": "code",
      "source": [
        "## Validation: Do not remove\n",
        "report.validate_07_02b(g, query)"
      ],
      "metadata": {
        "id": "s-Hu2LxRjUQt",
        "colab": {
          "base_uri": "https://localhost:8080/"
        },
        "outputId": "09f020ba-8e8e-4dcd-97bc-9d56986009a9"
      },
      "execution_count": 35,
      "outputs": [
        {
          "output_type": "stream",
          "name": "stdout",
          "text": [
            "TASK 7.2b OK\n"
          ]
        }
      ]
    },
    {
      "cell_type": "markdown",
      "source": [
        "**TASK 7.3:  List the name and type of those who know Rocky (in SPARQL only). Use name and type as variables in the query**"
      ],
      "metadata": {
        "id": "3NyI7M2VNr9R"
      }
    },
    {
      "cell_type": "code",
      "source": [
        "query =  \"\"\"\n",
        "    PREFIX ns: <http://oeg.fi.upm.es/def/people#>\n",
        "\n",
        "    SELECT DISTINCT ?name ?type\n",
        "    WHERE {\n",
        "        ?person ns:knows ns:Rocky.\n",
        "        ?person rdfs:label ?name.\n",
        "        ?person rdf:type ?type.\n",
        "    }\n",
        "\n",
        "    GROUP BY ?name\n",
        "\"\"\"\n",
        "# TO DO\n",
        "# Visualize the results\n",
        "for r in g.query(query):\n",
        "  print(r.name, r.type)\n"
      ],
      "metadata": {
        "id": "I_CNoIKdNpbx",
        "colab": {
          "base_uri": "https://localhost:8080/"
        },
        "outputId": "3782840f-edba-4d9a-cd35-2baa4fd72e5e"
      },
      "execution_count": 36,
      "outputs": [
        {
          "output_type": "stream",
          "name": "stdout",
          "text": [
            "Asun http://oeg.fi.upm.es/def/people#FullProfessor\n",
            "Raul http://oeg.fi.upm.es/def/people#InterimAssociateProfessor\n",
            "Fantasma http://oeg.fi.upm.es/def/people#Animal\n"
          ]
        }
      ]
    },
    {
      "cell_type": "code",
      "source": [
        "## Validation: Do not remove\n",
        "report.validate_07_03(g, query)"
      ],
      "metadata": {
        "id": "Zf3JS7tEhS2t",
        "colab": {
          "base_uri": "https://localhost:8080/"
        },
        "outputId": "0dac14e7-d21f-47c7-faac-7cd352deb4b3"
      },
      "execution_count": 37,
      "outputs": [
        {
          "output_type": "stream",
          "name": "stdout",
          "text": [
            "TASK 7.3 OK\n"
          ]
        }
      ]
    },
    {
      "cell_type": "markdown",
      "source": [
        "**Task 7.4: List the name of those entities who have a colleague with a dog, or that have a collegue who has a colleague who has a dog (in SPARQL). Return the results in a variable called name**"
      ],
      "metadata": {
        "id": "kyjGsyxDPa2C"
      }
    },
    {
      "cell_type": "code",
      "source": [
        "query =  \"\"\"\n",
        "    PREFIX people: <http://oeg.fi.upm.es/def/people#>\n",
        "    SELECT DISTINCT ?name\n",
        "    WHERE {\n",
        "        {\n",
        "\n",
        "            ?person people:hasColleague ?colleague .\n",
        "            ?colleague people:ownsPet ?perro.\n",
        "        }\n",
        "        UNION\n",
        "        {\n",
        "\n",
        "            ?person people:hasColleague ?colleague .\n",
        "            ?colleague people:hasColleague ?colleaguee .\n",
        "            ?colleaguee people:ownsPet ?perro.\n",
        "        }\n",
        "        ?person rdfs:label ?name\n",
        "  }\n",
        "\"\"\"\n",
        "\n",
        "for r in g.query(query):\n",
        "  print(r.name)\n",
        "\n",
        "# TO DO\n",
        "# Visualize the results"
      ],
      "metadata": {
        "id": "yoVwVZUAPaLm",
        "colab": {
          "base_uri": "https://localhost:8080/"
        },
        "outputId": "14d5c3d5-37c4-4b62-97e9-0ebb3f038ee5"
      },
      "execution_count": 41,
      "outputs": [
        {
          "output_type": "stream",
          "name": "stdout",
          "text": [
            "Asun\n",
            "Oscar\n",
            "Raul\n"
          ]
        }
      ]
    },
    {
      "cell_type": "code",
      "source": [
        "## Validation: Do not remove\n",
        "report.validate_07_04(g,query)\n",
        "report.save_report(\"_Task_07\")"
      ],
      "metadata": {
        "id": "zcTZE7ngj2fc",
        "colab": {
          "base_uri": "https://localhost:8080/"
        },
        "outputId": "0c5f7c1b-4c86-407c-db71-ac6d9321d04d"
      },
      "execution_count": 39,
      "outputs": [
        {
          "output_type": "stream",
          "name": "stdout",
          "text": [
            "TASK 7.4 OK\n"
          ]
        }
      ]
    }
  ],
  "metadata": {
    "colab": {
      "provenance": []
    },
    "kernelspec": {
      "display_name": "Python 3 (ipykernel)",
      "language": "python",
      "name": "python3"
    },
    "language_info": {
      "codemirror_mode": {
        "name": "ipython",
        "version": 3
      },
      "file_extension": ".py",
      "mimetype": "text/x-python",
      "name": "python",
      "nbconvert_exporter": "python",
      "pygments_lexer": "ipython3",
      "version": "3.9.5"
    }
  },
  "nbformat": 4,
  "nbformat_minor": 0
}